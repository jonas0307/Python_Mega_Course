{
 "cells": [
  {
   "cell_type": "markdown",
   "metadata": {},
   "source": [
    "For Loop Over a Function\n",
    "    A for loop can also be used to execute a function multiple times. For example, below we are executing celsius_to_kelvin three times since there are three items in the iterating list:\n",
    "    \n",
    "       \n",
    "    def celsius_to_kelvin(cels):\n",
    "        return cels + 273.15\n",
    "     \n",
    "    for temperature in [9.1, 8.8, -270.15]:\n",
    "        print(celsius_to_kelvin(temperature))\n",
    "    \n",
    "    \n",
    "    The output of that would be:\n",
    "    \n",
    "    282.25\n",
    "    281.95\n",
    "    3.0\n",
    "    \n",
    "    So, in the first iteration celsius_to_kelvin(9.1) was executed, in the second celsius_to_kelvin(8.8) and in the third celsius_to_kelvin(-270.15).\n",
    "    \n"
   ]
  }
 ],
 "metadata": {
  "language_info": {
   "name": "python"
  }
 },
 "nbformat": 4,
 "nbformat_minor": 2
}
