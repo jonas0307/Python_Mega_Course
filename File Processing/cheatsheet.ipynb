{
 "cells": [
  {
   "cell_type": "markdown",
   "metadata": {},
   "source": [
    "<b>Cheatsheet: File Processing<b>\n",
    "In this section, you learned that:\n",
    "\n",
    "* You can read an existing file with Python:\n",
    "\n",
    "    with open(\"file.txt\") as file:\n",
    "    content = file.read()\n",
    "* You can create a new file with Python and write some text on it:\n",
    "\n",
    "    with open(\"file.txt\", \"w\") as file:\n",
    "    content = file.write(\"Sample text\")\n",
    "* You can append text to an existing file without overwriting it:\n",
    "\n",
    "    with open(\"file.txt\", \"a\") as file:\n",
    "    content = file.write(\"More sample text\")\n",
    "* You can both append and read a file with:\n",
    "\n",
    "    with open(\"file.txt\", \"a+\") as file:\n",
    "    content = file.write(\"Even more sample text\")\n",
    "    file.seek(0)\n",
    "    content = file.read()"
   ]
  }
 ],
 "metadata": {
  "language_info": {
   "name": "python"
  }
 },
 "nbformat": 4,
 "nbformat_minor": 2
}
